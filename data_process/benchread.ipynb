{
 "cells": [
  {
   "cell_type": "code",
   "execution_count": null,
   "metadata": {},
   "outputs": [],
   "source": [
    "#!/usr/bin/python3\n",
    "\n",
    "# setup with:\n",
    "# \n",
    "#   mkdir sample\n",
    "#   cd sample\n",
    "#   for i in {1..300}; do cp ~/pics/k2.png $i.png; done\n",
    "# \n",
    "# on this modest 2015 laptop running Ubuntu 20.04, I see:\n",
    "#\n",
    "#   $ ../bench-read.py *.png\n",
    "#   cv2: read 300 files with BGR->RGB conversion ...\n",
    "#       took 39.46 sec\n",
    "#   pyvips: read 300 files ...\n",
    "#       took 37.10 sec\n",
    "\n",
    "import sys\n",
    "import pyvips \n",
    "import cv2\n",
    "import time\n",
    "import numpy as np\n",
    "\n",
    "files = sys.argv[1:]\n",
    "\n",
    "start_time = time.time()\n",
    "d = []\n",
    "print(f'cv2: read {len(files)} files with BGR->RGB conversion ...')\n",
    "for f in files:\n",
    "    b = cv2.imread(f)\n",
    "    b = cv2.cvtColor(b, cv2.COLOR_BGR2RGB)\n",
    "    d.append(b)\n",
    "print(f'    took {time.time() - start_time:.2f} sec')\n",
    "\n",
    "start_time = time.time()\n",
    "d = []\n",
    "print(f'pyvips: read {len(files)} files ...')\n",
    "for f in files:\n",
    "    c = pyvips.Image.new_from_file(f, access='sequential')\n",
    "    c = np.ndarray(buffer=c.write_to_memory(),\n",
    "                   dtype=np.uint8, shape=[c.height, c.width, c.bands])\n",
    "    d.append(c)\n",
    "print(f'    took {time.time() - start_time:.2f} sec')"
   ]
  }
 ],
 "metadata": {
  "kernelspec": {
   "display_name": "Python 3",
   "language": "python",
   "name": "python3"
  },
  "language_info": {
   "codemirror_mode": {
    "name": "ipython",
    "version": 3
   },
   "file_extension": ".py",
   "mimetype": "text/x-python",
   "name": "python",
   "nbconvert_exporter": "python",
   "pygments_lexer": "ipython3",
   "version": "3.6.9"
  }
 },
 "nbformat": 4,
 "nbformat_minor": 4
}
